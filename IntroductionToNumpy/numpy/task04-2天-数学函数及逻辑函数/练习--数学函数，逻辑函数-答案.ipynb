{
 "cells": [
  {
   "cell_type": "markdown",
   "metadata": {},
   "source": [
    "## 数学函数"
   ]
  },
  {
   "cell_type": "markdown",
   "metadata": {},
   "source": [
    "**将数组a中大于30的值替换为30，小于10的值替换为10。**\n",
    "\n",
    "- `a = np.random.uniform(1, 50, 20)`\n",
    "\n",
    "【知识点：数学函数、搜索】\n",
    "- 如何将大于给定值的所有值替换为给定的截止值？"
   ]
  },
  {
   "cell_type": "code",
   "execution_count": 5,
   "metadata": {
    "ExecuteTime": {
     "end_time": "2020-09-06T03:08:51.850958Z",
     "start_time": "2020-09-06T03:08:51.759473Z"
    }
   },
   "outputs": [
    {
     "name": "stdout",
     "output_type": "stream",
     "text": [
      "[27.63 14.64 21.8  42.39  1.23  6.96 33.87 41.47  7.7  29.18 44.67 11.25\n",
      " 10.08  6.31 11.77 48.95 40.77  9.43 41.   14.43]\n",
      "[27.63 14.64 21.8  30.   10.   10.   30.   30.   10.   29.18 30.   11.25\n",
      " 10.08 10.   11.77 30.   30.   10.   30.   14.43]\n",
      "[27.63 14.64 21.8  30.   10.   10.   30.   30.   10.   29.18 30.   11.25\n",
      " 10.08 10.   11.77 30.   30.   10.   30.   14.43]\n"
     ]
    }
   ],
   "source": [
    "import numpy as np\n",
    "\n",
    "np.set_printoptions(precision=2)\n",
    "np.random.seed(100)\n",
    "a = np.random.uniform(1, 50, 20)\n",
    "print(a)\n",
    "# [27.63 14.64 21.8  42.39  1.23  6.96 33.87 41.47  7.7  29.18 44.67 11.25\n",
    "#  10.08  6.31 11.77 48.95 40.77  9.43 41.   14.43]\n",
    "\n",
    "# 方法1\n",
    "b = np.clip(a, a_min=10, a_max=30)\n",
    "print(b)\n",
    "# [27.63 14.64 21.8  30.   10.   10.   30.   30.   10.   29.18 30.   11.25\n",
    "#  10.08 10.   11.77 30.   30.   10.   30.   14.43]\n",
    "\n",
    "# 方法2\n",
    "b = np.where(a < 10, 10, a)\n",
    "b = np.where(b > 30, 30, b)\n",
    "print(b)\n",
    "# [27.63 14.64 21.8  30.   10.   10.   30.   30.   10.   29.18 30.   11.25\n",
    "#  10.08 10.   11.77 30.   30.   10.   30.   14.43]"
   ]
  },
  {
   "cell_type": "markdown",
   "metadata": {
    "ExecuteTime": {
     "end_time": "2020-09-06T03:21:06.830747Z",
     "start_time": "2020-09-06T03:21:06.825756Z"
    }
   },
   "source": [
    "\n",
    "**找到一个一维数字数组a中的所有峰值。峰顶是两边被较小数值包围的点。**\n",
    "\n",
    "- `a = np.array([1, 3, 7, 1, 2, 6, 0, 1])`\n",
    "\n",
    "【知识点：数学函数、搜索】\n",
    "- 如何在一维数组中找到所有的局部极大值（或峰值）？"
   ]
  },
  {
   "cell_type": "code",
   "execution_count": 7,
   "metadata": {
    "ExecuteTime": {
     "end_time": "2020-09-06T03:21:25.424045Z",
     "start_time": "2020-09-06T03:21:25.417035Z"
    }
   },
   "outputs": [
    {
     "name": "stdout",
     "output_type": "stream",
     "text": [
      "[ 2  4 -6  1  4 -6  1]\n",
      "[ 1  1 -1  1  1 -1  1]\n",
      "[ 0 -2  2  0 -2  2]\n",
      "[2 5]\n"
     ]
    }
   ],
   "source": [
    "import numpy as np\n",
    "\n",
    "a = np.array([1, 3, 7, 1, 2, 6, 0, 1])\n",
    "b1 = np.diff(a)\n",
    "b2 = np.sign(b1)\n",
    "b3 = np.diff(b2)\n",
    "\n",
    "print(b1)  # [ 2  4 -6  1  4 -6  1]\n",
    "print(b2)  # [ 1  1 -1  1  1 -1  1]\n",
    "print(b3)  # [ 0 -2  2  0 -2  2]\n",
    "index = np.where(np.equal(b3, -2))[0] + 1\n",
    "print(index) # [2 5]"
   ]
  },
  {
   "cell_type": "markdown",
   "metadata": {},
   "source": [
    "**对于给定的一维数组，计算窗口大小为3的移动平均值。**\n",
    "\n",
    "- `z = np.random.randint(10, size=10)`\n",
    "\n",
    "【知识点：数学函数】\n",
    "- 如何计算numpy数组的移动平均值？"
   ]
  },
  {
   "cell_type": "code",
   "execution_count": 8,
   "metadata": {
    "ExecuteTime": {
     "end_time": "2020-09-06T03:23:59.067424Z",
     "start_time": "2020-09-06T03:23:59.062437Z"
    }
   },
   "outputs": [
    {
     "name": "stdout",
     "output_type": "stream",
     "text": [
      "[8 8 3 7 7 0 4 2 5 2]\n",
      "[6.33 6.   5.67 4.67 3.67 2.   3.67 3.  ]\n"
     ]
    }
   ],
   "source": [
    "import numpy as np\n",
    "\n",
    "np.random.seed(100)\n",
    "z = np.random.randint(10, size=10)\n",
    "print(z)\n",
    "# [8 8 3 7 7 0 4 2 5 2]\n",
    "\n",
    "def MovingAverage(arr, n=3):\n",
    "    a = np.cumsum(arr)\n",
    "    a[n:] = a[n:] - a[:-n]\n",
    "    return a[n - 1:] / n\n",
    "\n",
    "\n",
    "r = MovingAverage(z, 3)\n",
    "print(np.around(r, 2))\n",
    "# [6.33 6.   5.67 4.67 3.67 2.   3.67 3.  ]"
   ]
  },
  {
   "cell_type": "markdown",
   "metadata": {
    "ExecuteTime": {
     "end_time": "2020-09-14T09:26:27.187954Z",
     "start_time": "2020-09-14T09:26:27.183972Z"
    }
   },
   "source": [
    "**对一个5x5的随机矩阵做归一化**\n",
    "\n",
    "【知识点：数学函数】\n",
    "- (提示: (x - min) / (max - min))"
   ]
  },
  {
   "cell_type": "code",
   "execution_count": 2,
   "metadata": {
    "ExecuteTime": {
     "end_time": "2020-09-14T09:26:59.520324Z",
     "start_time": "2020-09-14T09:26:59.515666Z"
    }
   },
   "outputs": [
    {
     "name": "stdout",
     "output_type": "stream",
     "text": [
      "[[0.65852707 0.23160203 0.9700425  0.43393441 0.36950354]\n",
      " [0.58585632 0.01877358 0.         0.27782335 0.89654906]\n",
      " [0.71307774 0.32030221 0.55187887 0.01411576 0.38903753]\n",
      " [0.05702349 0.40824762 0.23277188 0.74335934 0.72125366]\n",
      " [0.59816442 0.98727663 1.         0.86466287 0.42760849]]\n"
     ]
    }
   ],
   "source": [
    "Z = np.random.random((5,5))\n",
    "Zmax, Zmin = Z.max(), Z.min()\n",
    "Z = (Z - Zmin)/(Zmax - Zmin)\n",
    "print(Z)"
   ]
  },
  {
   "cell_type": "markdown",
   "metadata": {},
   "source": [
    "**用五种不同的方法去提取一个随机数组的整数部分**\n",
    "\n",
    "【知识点：数学函数】\n",
    "\n",
    "- (提示: %, np.floor, np.ceil, astype, np.trunc)"
   ]
  },
  {
   "cell_type": "code",
   "execution_count": 3,
   "metadata": {
    "ExecuteTime": {
     "end_time": "2020-09-14T09:31:37.950320Z",
     "start_time": "2020-09-14T09:31:37.944304Z"
    }
   },
   "outputs": [
    {
     "name": "stdout",
     "output_type": "stream",
     "text": [
      "[8. 5. 5. 1. 2. 7. 0. 1. 5. 9.]\n",
      "[8. 5. 5. 1. 2. 7. 0. 1. 5. 9.]\n",
      "[8. 5. 5. 1. 2. 7. 0. 1. 5. 9.]\n",
      "[8 5 5 1 2 7 0 1 5 9]\n",
      "[8. 5. 5. 1. 2. 7. 0. 1. 5. 9.]\n"
     ]
    }
   ],
   "source": [
    "Z = np.random.uniform(0,10,10)\n",
    "\n",
    "print (Z - Z%1)\n",
    "print (np.floor(Z))\n",
    "print (np.ceil(Z)-1)\n",
    "print (Z.astype(int))\n",
    "print (np.trunc(Z))"
   ]
  },
  {
   "cell_type": "markdown",
   "metadata": {},
   "source": [
    "**考虑一维数组Z，构建一个二维数组，其第一行为（Z [0]，Z [1]，Z [2]），随后的每一行都移位1（最后一行应为（Z [ -3]，Z [-2]，Z [-1]）**\n",
    "\n",
    "【知识点：数学函数】\n",
    "\n",
    "- （提示np.lib.stride_tricks）"
   ]
  },
  {
   "attachments": {
    "image.png": {
     "image/png": "[encoded data removed]"
    }
   },
   "cell_type": "markdown",
   "metadata": {},
   "source": [
    "[0, 1, 2, 3, 4, 5, 6, 7, 8, 9]--------> ![image.png](attachment:image.png)     "
   ]
  },
  {
   "cell_type": "code",
   "execution_count": 8,
   "metadata": {
    "ExecuteTime": {
     "end_time": "2020-09-14T13:38:56.805424Z",
     "start_time": "2020-09-14T13:38:56.800436Z"
    }
   },
   "outputs": [
    {
     "data": {
      "text/plain": [
       "4"
      ]
     },
     "execution_count": 8,
     "metadata": {},
     "output_type": "execute_result"
    }
   ],
   "source": [
    "np.arange(10).itemsize"
   ]
  },
  {
   "cell_type": "code",
   "execution_count": 7,
   "metadata": {
    "ExecuteTime": {
     "end_time": "2020-09-14T13:32:50.080815Z",
     "start_time": "2020-09-14T13:32:49.737937Z"
    }
   },
   "outputs": [
    {
     "name": "stdout",
     "output_type": "stream",
     "text": [
      "[[0 1 2]\n",
      " [1 2 3]\n",
      " [2 3 4]\n",
      " [3 4 5]\n",
      " [4 5 6]\n",
      " [5 6 7]\n",
      " [6 7 8]\n",
      " [7 8 9]]\n"
     ]
    }
   ],
   "source": [
    "from numpy.lib import stride_tricks\n",
    "def rolling(a, window):\n",
    "    shape = (a.size - window + 1, window)\n",
    "    strides = (a.itemsize, a.itemsize)\n",
    "    return stride_tricks.as_strided(a, shape=shape, strides=strides)\n",
    "Z = rolling(np.arange(10), 3)\n",
    "print (Z)"
   ]
  },
  {
   "cell_type": "markdown",
   "metadata": {},
   "source": [
    "**考虑两组点集P0和P1去描述一组线(二维)和一个点p,如何计算点p到每一条线 i (P0[i],P1[i])的距离？**\n",
    "\n",
    "【知识点：数学函数】\n",
    "- 提示 设P(x0,y0)，直线方程为：Ax+By+C=0\n",
    "则P到直线的距离为:d=|Ax0+By0+C|/√(A²+B²)\n"
   ]
  },
  {
   "cell_type": "code",
   "execution_count": 50,
   "metadata": {
    "ExecuteTime": {
     "end_time": "2020-09-15T05:37:30.811695Z",
     "start_time": "2020-09-15T05:37:30.805709Z"
    }
   },
   "outputs": [],
   "source": [
    "import numpy as np\n",
    "def distance(P0,P1,p):\n",
    "    A=-1/(P1[:,0]-P0[:,0])\n",
    "    B=1/(P1[:,1]-P0[:,1])\n",
    "    C=P0[:,0]/(P1[:,0]-P0[:,0])-P0[:,1]/(P1[:,1]-P0[:,1])\n",
    "    return np.abs(A*p[:,0]+B*p[:,1]+C)/np.sqrt(A**2+B**2)"
   ]
  },
  {
   "cell_type": "code",
   "execution_count": 51,
   "metadata": {
    "ExecuteTime": {
     "end_time": "2020-09-15T05:37:37.692332Z",
     "start_time": "2020-09-15T05:37:37.687379Z"
    }
   },
   "outputs": [
    {
     "name": "stdout",
     "output_type": "stream",
     "text": [
      "[ 2.41120585  7.05924485  5.94906338  3.89096895  7.68364539 14.01851392\n",
      "  4.28148124  2.29582076  6.19155339 15.55087594]\n"
     ]
    }
   ],
   "source": [
    "P0 = np.random.uniform(-10,10,(10,2))\n",
    "P1 = np.random.uniform(-10,10,(10,2))\n",
    "p  = np.random.uniform(-10,10,( 1,2))\n",
    "\n",
    "print (distance(P0, P1, p))"
   ]
  },
  {
   "cell_type": "markdown",
   "metadata": {
    "ExecuteTime": {
     "end_time": "2020-09-06T02:33:06.525406Z",
     "start_time": "2020-09-06T02:33:06.520453Z"
    }
   },
   "source": [
    "## 逻辑函数"
   ]
  },
  {
   "cell_type": "markdown",
   "metadata": {},
   "source": [
    "**获取a和b元素匹配的位置。**\n",
    "- `a = np.array([1, 2, 3, 2, 3, 4, 3, 4, 5, 6])`\n",
    "- `b = np.array([7, 2, 10, 2, 7, 4, 9, 4, 9, 8])`\n",
    "\n",
    "【知识点：逻辑函数】\n",
    "- 如何得到两个数组元素匹配的位置？"
   ]
  },
  {
   "cell_type": "code",
   "execution_count": 2,
   "metadata": {
    "ExecuteTime": {
     "end_time": "2020-09-06T02:53:59.537622Z",
     "start_time": "2020-09-06T02:53:59.531638Z"
    }
   },
   "outputs": [
    {
     "name": "stdout",
     "output_type": "stream",
     "text": [
      "(array([1, 3, 5, 7], dtype=int64),)\n",
      "(array([1, 3, 5, 7], dtype=int64),)\n"
     ]
    }
   ],
   "source": [
    "import numpy as np\n",
    "\n",
    "a = np.array([1, 2, 3, 2, 3, 4, 3, 4, 5, 6])\n",
    "b = np.array([7, 2, 10, 2, 7, 4, 9, 4, 9, 8])\n",
    "mask = np.equal(a, b)\n",
    "\n",
    "# 方法1\n",
    "x = np.where(mask)\n",
    "print(x)  # (array([1, 3, 5, 7], dtype=int64),)\n",
    "\n",
    "# 方法2\n",
    "x = np.nonzero(mask)\n",
    "print(x)  # (array([1, 3, 5, 7], dtype=int64),)"
   ]
  },
  {
   "cell_type": "markdown",
   "metadata": {
    "ExecuteTime": {
     "end_time": "2020-09-06T02:54:19.320517Z",
     "start_time": "2020-09-06T02:54:19.315496Z"
    }
   },
   "source": [
    "**获取5到10 之间的所有元素。**\n",
    "- `a = np.array([2, 6, 1, 9, 10, 3, 27])`\n",
    "\n",
    "【知识点：逻辑函数】\n",
    "- 如何从numpy数组中提取给定范围内的所有元素？"
   ]
  },
  {
   "cell_type": "code",
   "execution_count": 4,
   "metadata": {
    "ExecuteTime": {
     "end_time": "2020-09-06T02:55:11.162117Z",
     "start_time": "2020-09-06T02:55:11.156161Z"
    }
   },
   "outputs": [
    {
     "name": "stdout",
     "output_type": "stream",
     "text": [
      "[ 6  9 10]\n",
      "[ 6  9 10]\n",
      "[ 6  9 10]\n"
     ]
    }
   ],
   "source": [
    "import numpy as np\n",
    "\n",
    "a = np.array([2, 6, 1, 9, 10, 3, 27])\n",
    "mask = np.logical_and(np.greater_equal(a, 5), np.less_equal(a, 10))\n",
    "\n",
    "# 方法1\n",
    "x = np.where(mask)\n",
    "print(a[x])  # [ 6  9 10]\n",
    "\n",
    "# 方法2\n",
    "x = np.nonzero(mask)\n",
    "print(a[x])  # [ 6  9 10]\n",
    "\n",
    "# 方法3\n",
    "x = a[np.logical_and(a >= 5, a <= 10)]\n",
    "print(x)  # [ 6  9 10]"
   ]
  },
  {
   "cell_type": "markdown",
   "metadata": {},
   "source": [
    "**对于两个随机数组A和B,检查他们是否相等**\n",
    "\n",
    "【知识点：逻辑函数】\n",
    "\n",
    "- (提示: np.allclose, np.array_equal)"
   ]
  },
  {
   "cell_type": "code",
   "execution_count": 4,
   "metadata": {
    "ExecuteTime": {
     "end_time": "2020-09-14T09:35:57.408576Z",
     "start_time": "2020-09-14T09:35:57.404623Z"
    }
   },
   "outputs": [],
   "source": [
    "A = np.random.randint(0,2,5)\n",
    "B = np.random.randint(0,2,5)"
   ]
  },
  {
   "cell_type": "code",
   "execution_count": 5,
   "metadata": {
    "ExecuteTime": {
     "end_time": "2020-09-14T09:35:58.285123Z",
     "start_time": "2020-09-14T09:35:58.280479Z"
    }
   },
   "outputs": [
    {
     "name": "stdout",
     "output_type": "stream",
     "text": [
      "False\n"
     ]
    }
   ],
   "source": [
    "\n",
    "# Assuming identical shape of the arrays and a tolerance for the comparison of values\n",
    "equal = np.allclose(A,B)\n",
    "print(equal)"
   ]
  },
  {
   "cell_type": "markdown",
   "metadata": {},
   "source": [
    "**何对布尔值取反，或者原位(in-place)改变浮点数的符号(sign)？**\n",
    "\n",
    "【知识点：逻辑函数】\n",
    "- (提示: np.logical_not, np.negative)"
   ]
  },
  {
   "cell_type": "code",
   "execution_count": 13,
   "metadata": {
    "ExecuteTime": {
     "end_time": "2020-09-14T14:05:59.290471Z",
     "start_time": "2020-09-14T14:05:59.284521Z"
    }
   },
   "outputs": [
    {
     "name": "stdout",
     "output_type": "stream",
     "text": [
      "[0 1]\n"
     ]
    },
    {
     "data": {
      "text/plain": [
       "array([1, 0])"
      ]
     },
     "execution_count": 13,
     "metadata": {},
     "output_type": "execute_result"
    }
   ],
   "source": [
    "Z = np.array([0,1])\n",
    "print(Z)\n",
    "np.logical_not(Z, out=Z)\n",
    "# Z = np.random.uniform(-1.0,1.0,100)\n",
    "\n",
    "# np.negative(Z, out=Z)"
   ]
  },
  {
   "cell_type": "code",
   "execution_count": 14,
   "metadata": {
    "ExecuteTime": {
     "end_time": "2020-09-14T14:08:05.101330Z",
     "start_time": "2020-09-14T14:08:05.096343Z"
    }
   },
   "outputs": [
    {
     "name": "stdout",
     "output_type": "stream",
     "text": [
      "[0.2  1.15]\n"
     ]
    },
    {
     "data": {
      "text/plain": [
       "array([-0.2 , -1.15])"
      ]
     },
     "execution_count": 14,
     "metadata": {},
     "output_type": "execute_result"
    }
   ],
   "source": [
    "Z = np.array([0.2,1.15])\n",
    "print(Z)\n",
    "np.negative(Z, out=Z)"
   ]
  }
 ],
 "metadata": {
  "kernelspec": {
   "display_name": "Python35",
   "language": "python",
   "name": "python35"
  },
  "language_info": {
   "codemirror_mode": {
    "name": "ipython",
    "version": 3
   },
   "file_extension": ".py",
   "mimetype": "text/x-python",
   "name": "python",
   "nbconvert_exporter": "python",
   "pygments_lexer": "ipython3",
   "version": "3.6.10"
  },
  "toc": {
   "base_numbering": 1,
   "nav_menu": {},
   "number_sections": true,
   "sideBar": true,
   "skip_h1_title": false,
   "title_cell": "Table of Contents",
   "title_sidebar": "Contents",
   "toc_cell": false,
   "toc_position": {
    "height": "calc(100% - 180px)",
    "left": "10px",
    "top": "150px",
    "width": "224.2px"
   },
   "toc_section_display": true,
   "toc_window_display": true
  },
  "varInspector": {
   "cols": {
    "lenName": 16,
    "lenType": 16,
    "lenVar": 40
   },
   "kernels_config": {
    "python": {
     "delete_cmd_postfix": "",
     "delete_cmd_prefix": "del ",
     "library": "var_list.py",
     "varRefreshCmd": "print(var_dic_list())"
    },
    "r": {
     "delete_cmd_postfix": ") ",
     "delete_cmd_prefix": "rm(",
     "library": "var_list.r",
     "varRefreshCmd": "cat(var_dic_list()) "
    }
   },
   "types_to_exclude": [
    "module",
    "function",
    "builtin_function_or_method",
    "instance",
    "_Feature"
   ],
   "window_display": false
  }
 },
 "nbformat": 4,
 "nbformat_minor": 4
}
