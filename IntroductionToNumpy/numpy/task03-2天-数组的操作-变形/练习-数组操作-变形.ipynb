{
 "cells": [
  {
   "cell_type": "markdown",
   "metadata": {},
   "source": [
    "### **将 `arr`转换为2行的2维数组。**\n",
    "- `arr = np.arange(10)`\n",
    "\n",
    "【知识点：数组的操作】\n",
    "- 如何改变数组的形状？"
   ]
  },
  {
   "cell_type": "markdown",
   "metadata": {},
   "source": [
    "### **垂直堆叠数组a和数组b。**\n",
    "- `a = np.arange(10).reshape([2, -1])`\n",
    "- `b = np.repeat(1, 10).reshape([2, -1])`\n",
    "\n",
    "【知识点：数组操作】\n",
    "- 如何垂直叠加两个数组？"
   ]
  },
  {
   "cell_type": "markdown",
   "metadata": {},
   "source": [
    "### **8. 将数组a与数组b水平堆叠。**\n",
    "- `a = np.arange(10).reshape([2, -1])`\n",
    "- `b = np.repeat(1, 10).reshape([2, -1])`\n",
    "\n",
    "【知识点：数组的操作】\n",
    "- 如何水平叠加两个数组？"
   ]
  },
  {
   "cell_type": "markdown",
   "metadata": {},
   "source": [
    "### **在给定的numpy数组中找到重复的条目（第二次出现以后），并将它们标记为True。第一次出现应为False。**\n",
    "\n",
    "- `a = np.random.randint(0, 5, 10)`\n",
    "\n",
    "【知识点：数组操作】\n",
    "- 如何在numpy数组中找到重复值？"
   ]
  },
  {
   "cell_type": "code",
   "execution_count": null,
   "metadata": {},
   "outputs": [],
   "source": []
  }
 ],
 "metadata": {
  "kernelspec": {
   "display_name": "Python35",
   "language": "python",
   "name": "python35"
  },
  "language_info": {
   "codemirror_mode": {
    "name": "ipython",
    "version": 3
   },
   "file_extension": ".py",
   "mimetype": "text/x-python",
   "name": "python",
   "nbconvert_exporter": "python",
   "pygments_lexer": "ipython3",
   "version": "3.6.10"
  },
  "toc": {
   "base_numbering": 1,
   "nav_menu": {},
   "number_sections": true,
   "sideBar": true,
   "skip_h1_title": false,
   "title_cell": "Table of Contents",
   "title_sidebar": "Contents",
   "toc_cell": false,
   "toc_position": {},
   "toc_section_display": true,
   "toc_window_display": false
  },
  "varInspector": {
   "cols": {
    "lenName": 16,
    "lenType": 16,
    "lenVar": 40
   },
   "kernels_config": {
    "python": {
     "delete_cmd_postfix": "",
     "delete_cmd_prefix": "del ",
     "library": "var_list.py",
     "varRefreshCmd": "print(var_dic_list())"
    },
    "r": {
     "delete_cmd_postfix": ") ",
     "delete_cmd_prefix": "rm(",
     "library": "var_list.r",
     "varRefreshCmd": "cat(var_dic_list()) "
    }
   },
   "types_to_exclude": [
    "module",
    "function",
    "builtin_function_or_method",
    "instance",
    "_Feature"
   ],
   "window_display": false
  }
 },
 "nbformat": 4,
 "nbformat_minor": 4
}
